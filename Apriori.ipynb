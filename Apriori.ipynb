{
  "nbformat": 4,
  "nbformat_minor": 0,
  "metadata": {
    "colab": {
      "provenance": []
    },
    "kernelspec": {
      "name": "python3",
      "display_name": "Python 3"
    },
    "language_info": {
      "name": "python"
    }
  },
  "cells": [
    {
      "cell_type": "markdown",
      "source": [
        "Create Association Rules for the Market Basket Analysis for the given Threshold"
      ],
      "metadata": {
        "id": "ev1_IVIWmCwC"
      }
    },
    {
      "cell_type": "code",
      "source": [
        "\n",
        "!pip install apyori"
      ],
      "metadata": {
        "id": "O60HxLevnxCL",
        "colab": {
          "base_uri": "https://localhost:8080/"
        },
        "outputId": "9b8a4dad-d3ef-4683-82ca-544e50ac1d70"
      },
      "execution_count": null,
      "outputs": [
        {
          "output_type": "stream",
          "name": "stdout",
          "text": [
            "Looking in indexes: https://pypi.org/simple, https://us-python.pkg.dev/colab-wheels/public/simple/\n",
            "Collecting apyori\n",
            "  Downloading apyori-1.1.2.tar.gz (8.6 kB)\n",
            "  Preparing metadata (setup.py) ... \u001b[?25l\u001b[?25hdone\n",
            "Building wheels for collected packages: apyori\n",
            "  Building wheel for apyori (setup.py) ... \u001b[?25l\u001b[?25hdone\n",
            "  Created wheel for apyori: filename=apyori-1.1.2-py3-none-any.whl size=5956 sha256=678315175f933a8850149a00fb9faedb71503e7672df66da063ac63f591378a9\n",
            "  Stored in directory: /root/.cache/pip/wheels/c4/1a/79/20f55c470a50bb3702a8cb7c94d8ada15573538c7f4baebe2d\n",
            "Successfully built apyori\n",
            "Installing collected packages: apyori\n",
            "Successfully installed apyori-1.1.2\n"
          ]
        }
      ]
    },
    {
      "cell_type": "code",
      "execution_count": null,
      "metadata": {
        "id": "gefWtOSfmtvQ"
      },
      "outputs": [],
      "source": [
        "import pandas as pd\n",
        "import numpy as np\n",
        "from apyori import apriori"
      ]
    },
    {
      "cell_type": "code",
      "source": [
        "\n",
        "from google.colab import drive\n",
        "\n",
        "drive.mount('/content/gdrive/', force_remount=True)"
      ],
      "metadata": {
        "colab": {
          "base_uri": "https://localhost:8080/"
        },
        "id": "2uNeJoQftJd0",
        "outputId": "991f7a35-1379-454e-99fe-dd4895bf9e3e"
      },
      "execution_count": null,
      "outputs": [
        {
          "output_type": "stream",
          "name": "stdout",
          "text": [
            "Mounted at /content/gdrive/\n"
          ]
        }
      ]
    },
    {
      "cell_type": "code",
      "source": [],
      "metadata": {
        "id": "cn3KX3dpteIe"
      },
      "execution_count": null,
      "outputs": []
    },
    {
      "cell_type": "code",
      "source": [
        "store_data = pd.read_csv(\"/content/gdrive/MyDrive/Datasets/GroceryStoreDataSet.csv\",encoding='latin-1')"
      ],
      "metadata": {
        "id": "Q14Lwcvimwbk"
      },
      "execution_count": null,
      "outputs": []
    },
    {
      "cell_type": "code",
      "source": [
        "store_data.head()"
      ],
      "metadata": {
        "id": "pLVGHT7Rn_AJ",
        "colab": {
          "base_uri": "https://localhost:8080/",
          "height": 206
        },
        "outputId": "5d69b185-2729-4ecc-d050-b1a071079f95"
      },
      "execution_count": null,
      "outputs": [
        {
          "output_type": "execute_result",
          "data": {
            "text/plain": [
              "              MILK,BREAD,BISCUIT\n",
              "0  BREAD,MILK,BISCUIT,CORNFLAKES\n",
              "1            BREAD,TEA,BOURNVITA\n",
              "2           JAM,MAGGI,BREAD,MILK\n",
              "3              MAGGI,TEA,BISCUIT\n",
              "4            BREAD,TEA,BOURNVITA"
            ],
            "text/html": [
              "\n",
              "  <div id=\"df-cfcd9263-b393-478e-b762-faeb00f7ab7a\">\n",
              "    <div class=\"colab-df-container\">\n",
              "      <div>\n",
              "<style scoped>\n",
              "    .dataframe tbody tr th:only-of-type {\n",
              "        vertical-align: middle;\n",
              "    }\n",
              "\n",
              "    .dataframe tbody tr th {\n",
              "        vertical-align: top;\n",
              "    }\n",
              "\n",
              "    .dataframe thead th {\n",
              "        text-align: right;\n",
              "    }\n",
              "</style>\n",
              "<table border=\"1\" class=\"dataframe\">\n",
              "  <thead>\n",
              "    <tr style=\"text-align: right;\">\n",
              "      <th></th>\n",
              "      <th>MILK,BREAD,BISCUIT</th>\n",
              "    </tr>\n",
              "  </thead>\n",
              "  <tbody>\n",
              "    <tr>\n",
              "      <th>0</th>\n",
              "      <td>BREAD,MILK,BISCUIT,CORNFLAKES</td>\n",
              "    </tr>\n",
              "    <tr>\n",
              "      <th>1</th>\n",
              "      <td>BREAD,TEA,BOURNVITA</td>\n",
              "    </tr>\n",
              "    <tr>\n",
              "      <th>2</th>\n",
              "      <td>JAM,MAGGI,BREAD,MILK</td>\n",
              "    </tr>\n",
              "    <tr>\n",
              "      <th>3</th>\n",
              "      <td>MAGGI,TEA,BISCUIT</td>\n",
              "    </tr>\n",
              "    <tr>\n",
              "      <th>4</th>\n",
              "      <td>BREAD,TEA,BOURNVITA</td>\n",
              "    </tr>\n",
              "  </tbody>\n",
              "</table>\n",
              "</div>\n",
              "      <button class=\"colab-df-convert\" onclick=\"convertToInteractive('df-cfcd9263-b393-478e-b762-faeb00f7ab7a')\"\n",
              "              title=\"Convert this dataframe to an interactive table.\"\n",
              "              style=\"display:none;\">\n",
              "        \n",
              "  <svg xmlns=\"http://www.w3.org/2000/svg\" height=\"24px\"viewBox=\"0 0 24 24\"\n",
              "       width=\"24px\">\n",
              "    <path d=\"M0 0h24v24H0V0z\" fill=\"none\"/>\n",
              "    <path d=\"M18.56 5.44l.94 2.06.94-2.06 2.06-.94-2.06-.94-.94-2.06-.94 2.06-2.06.94zm-11 1L8.5 8.5l.94-2.06 2.06-.94-2.06-.94L8.5 2.5l-.94 2.06-2.06.94zm10 10l.94 2.06.94-2.06 2.06-.94-2.06-.94-.94-2.06-.94 2.06-2.06.94z\"/><path d=\"M17.41 7.96l-1.37-1.37c-.4-.4-.92-.59-1.43-.59-.52 0-1.04.2-1.43.59L10.3 9.45l-7.72 7.72c-.78.78-.78 2.05 0 2.83L4 21.41c.39.39.9.59 1.41.59.51 0 1.02-.2 1.41-.59l7.78-7.78 2.81-2.81c.8-.78.8-2.07 0-2.86zM5.41 20L4 18.59l7.72-7.72 1.47 1.35L5.41 20z\"/>\n",
              "  </svg>\n",
              "      </button>\n",
              "      \n",
              "  <style>\n",
              "    .colab-df-container {\n",
              "      display:flex;\n",
              "      flex-wrap:wrap;\n",
              "      gap: 12px;\n",
              "    }\n",
              "\n",
              "    .colab-df-convert {\n",
              "      background-color: #E8F0FE;\n",
              "      border: none;\n",
              "      border-radius: 50%;\n",
              "      cursor: pointer;\n",
              "      display: none;\n",
              "      fill: #1967D2;\n",
              "      height: 32px;\n",
              "      padding: 0 0 0 0;\n",
              "      width: 32px;\n",
              "    }\n",
              "\n",
              "    .colab-df-convert:hover {\n",
              "      background-color: #E2EBFA;\n",
              "      box-shadow: 0px 1px 2px rgba(60, 64, 67, 0.3), 0px 1px 3px 1px rgba(60, 64, 67, 0.15);\n",
              "      fill: #174EA6;\n",
              "    }\n",
              "\n",
              "    [theme=dark] .colab-df-convert {\n",
              "      background-color: #3B4455;\n",
              "      fill: #D2E3FC;\n",
              "    }\n",
              "\n",
              "    [theme=dark] .colab-df-convert:hover {\n",
              "      background-color: #434B5C;\n",
              "      box-shadow: 0px 1px 3px 1px rgba(0, 0, 0, 0.15);\n",
              "      filter: drop-shadow(0px 1px 2px rgba(0, 0, 0, 0.3));\n",
              "      fill: #FFFFFF;\n",
              "    }\n",
              "  </style>\n",
              "\n",
              "      <script>\n",
              "        const buttonEl =\n",
              "          document.querySelector('#df-cfcd9263-b393-478e-b762-faeb00f7ab7a button.colab-df-convert');\n",
              "        buttonEl.style.display =\n",
              "          google.colab.kernel.accessAllowed ? 'block' : 'none';\n",
              "\n",
              "        async function convertToInteractive(key) {\n",
              "          const element = document.querySelector('#df-cfcd9263-b393-478e-b762-faeb00f7ab7a');\n",
              "          const dataTable =\n",
              "            await google.colab.kernel.invokeFunction('convertToInteractive',\n",
              "                                                     [key], {});\n",
              "          if (!dataTable) return;\n",
              "\n",
              "          const docLinkHtml = 'Like what you see? Visit the ' +\n",
              "            '<a target=\"_blank\" href=https://colab.research.google.com/notebooks/data_table.ipynb>data table notebook</a>'\n",
              "            + ' to learn more about interactive tables.';\n",
              "          element.innerHTML = '';\n",
              "          dataTable['output_type'] = 'display_data';\n",
              "          await google.colab.output.renderOutput(dataTable, element);\n",
              "          const docLink = document.createElement('div');\n",
              "          docLink.innerHTML = docLinkHtml;\n",
              "          element.appendChild(docLink);\n",
              "        }\n",
              "      </script>\n",
              "    </div>\n",
              "  </div>\n",
              "  "
            ]
          },
          "metadata": {},
          "execution_count": 6
        }
      ]
    },
    {
      "cell_type": "code",
      "source": [
        "store_data.info()"
      ],
      "metadata": {
        "id": "b29yr-F7u_HA",
        "colab": {
          "base_uri": "https://localhost:8080/"
        },
        "outputId": "8204b0c1-8ee9-4f43-9e66-ed50634e1d8c"
      },
      "execution_count": null,
      "outputs": [
        {
          "output_type": "stream",
          "name": "stdout",
          "text": [
            "<class 'pandas.core.frame.DataFrame'>\n",
            "RangeIndex: 19 entries, 0 to 18\n",
            "Data columns (total 1 columns):\n",
            " #   Column              Non-Null Count  Dtype \n",
            "---  ------              --------------  ----- \n",
            " 0   MILK,BREAD,BISCUIT  19 non-null     object\n",
            "dtypes: object(1)\n",
            "memory usage: 280.0+ bytes\n"
          ]
        }
      ]
    },
    {
      "cell_type": "code",
      "source": [
        "#Renaming the column to PRODUCTS\n",
        "\n",
        "store_data.rename(columns = {'MILK,BREAD,BISCUIT':'PRODUCTS'}, inplace = True)"
      ],
      "metadata": {
        "id": "oftNXS5WxBNo"
      },
      "execution_count": null,
      "outputs": []
    },
    {
      "cell_type": "code",
      "source": [
        "# Creating a list of items in every transaction.\n",
        "#The list will work as a training set from where we can generate the list of Association Rules.\n",
        "\n",
        "list_items = list(store_data[\"PRODUCTS\"].apply(lambda x:x.split(',')))\n",
        "list_items"
      ],
      "metadata": {
        "id": "DsNuJvSXpoGO",
        "colab": {
          "base_uri": "https://localhost:8080/"
        },
        "outputId": "6a2538ea-f87e-4abd-c96a-77a48746ecd9"
      },
      "execution_count": null,
      "outputs": [
        {
          "output_type": "execute_result",
          "data": {
            "text/plain": [
              "[['BREAD', 'MILK', 'BISCUIT', 'CORNFLAKES'],\n",
              " ['BREAD', 'TEA', 'BOURNVITA'],\n",
              " ['JAM', 'MAGGI', 'BREAD', 'MILK'],\n",
              " ['MAGGI', 'TEA', 'BISCUIT'],\n",
              " ['BREAD', 'TEA', 'BOURNVITA'],\n",
              " ['MAGGI', 'TEA', 'CORNFLAKES'],\n",
              " ['MAGGI', 'BREAD', 'TEA', 'BISCUIT'],\n",
              " ['JAM', 'MAGGI', 'BREAD', 'TEA'],\n",
              " ['BREAD', 'MILK'],\n",
              " ['COFFEE', 'COCK', 'BISCUIT', 'CORNFLAKES'],\n",
              " ['COFFEE', 'COCK', 'BISCUIT', 'CORNFLAKES'],\n",
              " ['COFFEE', 'SUGER', 'BOURNVITA'],\n",
              " ['BREAD', 'COFFEE', 'COCK'],\n",
              " ['BREAD', 'SUGER', 'BISCUIT'],\n",
              " ['COFFEE', 'SUGER', 'CORNFLAKES'],\n",
              " ['BREAD', 'SUGER', 'BOURNVITA'],\n",
              " ['BREAD', 'COFFEE', 'SUGER'],\n",
              " ['BREAD', 'COFFEE', 'SUGER'],\n",
              " ['TEA', 'MILK', 'COFFEE', 'CORNFLAKES']]"
            ]
          },
          "metadata": {},
          "execution_count": 9
        }
      ]
    },
    {
      "cell_type": "code",
      "source": [
        "from mlxtend.preprocessing import TransactionEncoder\n",
        "\n",
        "encode = TransactionEncoder()\n",
        "encode_data = encode.fit(list_items).transform(list_items)\n",
        "store_data = pd.DataFrame(encode_data,columns = encode.columns_)\n",
        "store_data.head()\n"
      ],
      "metadata": {
        "id": "ZyGSvEslrZHm",
        "colab": {
          "base_uri": "https://localhost:8080/",
          "height": 206
        },
        "outputId": "453c1dd2-716a-4aba-9fdf-975de85b1410"
      },
      "execution_count": null,
      "outputs": [
        {
          "output_type": "execute_result",
          "data": {
            "text/plain": [
              "   BISCUIT  BOURNVITA  BREAD   COCK  COFFEE  CORNFLAKES    JAM  MAGGI   MILK  \\\n",
              "0     True      False   True  False   False        True  False  False   True   \n",
              "1    False       True   True  False   False       False  False  False  False   \n",
              "2    False      False   True  False   False       False   True   True   True   \n",
              "3     True      False  False  False   False       False  False   True  False   \n",
              "4    False       True   True  False   False       False  False  False  False   \n",
              "\n",
              "   SUGER    TEA  \n",
              "0  False  False  \n",
              "1  False   True  \n",
              "2  False  False  \n",
              "3  False   True  \n",
              "4  False   True  "
            ],
            "text/html": [
              "\n",
              "  <div id=\"df-3c1230ba-7260-4503-a034-82b2c413f01b\">\n",
              "    <div class=\"colab-df-container\">\n",
              "      <div>\n",
              "<style scoped>\n",
              "    .dataframe tbody tr th:only-of-type {\n",
              "        vertical-align: middle;\n",
              "    }\n",
              "\n",
              "    .dataframe tbody tr th {\n",
              "        vertical-align: top;\n",
              "    }\n",
              "\n",
              "    .dataframe thead th {\n",
              "        text-align: right;\n",
              "    }\n",
              "</style>\n",
              "<table border=\"1\" class=\"dataframe\">\n",
              "  <thead>\n",
              "    <tr style=\"text-align: right;\">\n",
              "      <th></th>\n",
              "      <th>BISCUIT</th>\n",
              "      <th>BOURNVITA</th>\n",
              "      <th>BREAD</th>\n",
              "      <th>COCK</th>\n",
              "      <th>COFFEE</th>\n",
              "      <th>CORNFLAKES</th>\n",
              "      <th>JAM</th>\n",
              "      <th>MAGGI</th>\n",
              "      <th>MILK</th>\n",
              "      <th>SUGER</th>\n",
              "      <th>TEA</th>\n",
              "    </tr>\n",
              "  </thead>\n",
              "  <tbody>\n",
              "    <tr>\n",
              "      <th>0</th>\n",
              "      <td>True</td>\n",
              "      <td>False</td>\n",
              "      <td>True</td>\n",
              "      <td>False</td>\n",
              "      <td>False</td>\n",
              "      <td>True</td>\n",
              "      <td>False</td>\n",
              "      <td>False</td>\n",
              "      <td>True</td>\n",
              "      <td>False</td>\n",
              "      <td>False</td>\n",
              "    </tr>\n",
              "    <tr>\n",
              "      <th>1</th>\n",
              "      <td>False</td>\n",
              "      <td>True</td>\n",
              "      <td>True</td>\n",
              "      <td>False</td>\n",
              "      <td>False</td>\n",
              "      <td>False</td>\n",
              "      <td>False</td>\n",
              "      <td>False</td>\n",
              "      <td>False</td>\n",
              "      <td>False</td>\n",
              "      <td>True</td>\n",
              "    </tr>\n",
              "    <tr>\n",
              "      <th>2</th>\n",
              "      <td>False</td>\n",
              "      <td>False</td>\n",
              "      <td>True</td>\n",
              "      <td>False</td>\n",
              "      <td>False</td>\n",
              "      <td>False</td>\n",
              "      <td>True</td>\n",
              "      <td>True</td>\n",
              "      <td>True</td>\n",
              "      <td>False</td>\n",
              "      <td>False</td>\n",
              "    </tr>\n",
              "    <tr>\n",
              "      <th>3</th>\n",
              "      <td>True</td>\n",
              "      <td>False</td>\n",
              "      <td>False</td>\n",
              "      <td>False</td>\n",
              "      <td>False</td>\n",
              "      <td>False</td>\n",
              "      <td>False</td>\n",
              "      <td>True</td>\n",
              "      <td>False</td>\n",
              "      <td>False</td>\n",
              "      <td>True</td>\n",
              "    </tr>\n",
              "    <tr>\n",
              "      <th>4</th>\n",
              "      <td>False</td>\n",
              "      <td>True</td>\n",
              "      <td>True</td>\n",
              "      <td>False</td>\n",
              "      <td>False</td>\n",
              "      <td>False</td>\n",
              "      <td>False</td>\n",
              "      <td>False</td>\n",
              "      <td>False</td>\n",
              "      <td>False</td>\n",
              "      <td>True</td>\n",
              "    </tr>\n",
              "  </tbody>\n",
              "</table>\n",
              "</div>\n",
              "      <button class=\"colab-df-convert\" onclick=\"convertToInteractive('df-3c1230ba-7260-4503-a034-82b2c413f01b')\"\n",
              "              title=\"Convert this dataframe to an interactive table.\"\n",
              "              style=\"display:none;\">\n",
              "        \n",
              "  <svg xmlns=\"http://www.w3.org/2000/svg\" height=\"24px\"viewBox=\"0 0 24 24\"\n",
              "       width=\"24px\">\n",
              "    <path d=\"M0 0h24v24H0V0z\" fill=\"none\"/>\n",
              "    <path d=\"M18.56 5.44l.94 2.06.94-2.06 2.06-.94-2.06-.94-.94-2.06-.94 2.06-2.06.94zm-11 1L8.5 8.5l.94-2.06 2.06-.94-2.06-.94L8.5 2.5l-.94 2.06-2.06.94zm10 10l.94 2.06.94-2.06 2.06-.94-2.06-.94-.94-2.06-.94 2.06-2.06.94z\"/><path d=\"M17.41 7.96l-1.37-1.37c-.4-.4-.92-.59-1.43-.59-.52 0-1.04.2-1.43.59L10.3 9.45l-7.72 7.72c-.78.78-.78 2.05 0 2.83L4 21.41c.39.39.9.59 1.41.59.51 0 1.02-.2 1.41-.59l7.78-7.78 2.81-2.81c.8-.78.8-2.07 0-2.86zM5.41 20L4 18.59l7.72-7.72 1.47 1.35L5.41 20z\"/>\n",
              "  </svg>\n",
              "      </button>\n",
              "      \n",
              "  <style>\n",
              "    .colab-df-container {\n",
              "      display:flex;\n",
              "      flex-wrap:wrap;\n",
              "      gap: 12px;\n",
              "    }\n",
              "\n",
              "    .colab-df-convert {\n",
              "      background-color: #E8F0FE;\n",
              "      border: none;\n",
              "      border-radius: 50%;\n",
              "      cursor: pointer;\n",
              "      display: none;\n",
              "      fill: #1967D2;\n",
              "      height: 32px;\n",
              "      padding: 0 0 0 0;\n",
              "      width: 32px;\n",
              "    }\n",
              "\n",
              "    .colab-df-convert:hover {\n",
              "      background-color: #E2EBFA;\n",
              "      box-shadow: 0px 1px 2px rgba(60, 64, 67, 0.3), 0px 1px 3px 1px rgba(60, 64, 67, 0.15);\n",
              "      fill: #174EA6;\n",
              "    }\n",
              "\n",
              "    [theme=dark] .colab-df-convert {\n",
              "      background-color: #3B4455;\n",
              "      fill: #D2E3FC;\n",
              "    }\n",
              "\n",
              "    [theme=dark] .colab-df-convert:hover {\n",
              "      background-color: #434B5C;\n",
              "      box-shadow: 0px 1px 3px 1px rgba(0, 0, 0, 0.15);\n",
              "      filter: drop-shadow(0px 1px 2px rgba(0, 0, 0, 0.3));\n",
              "      fill: #FFFFFF;\n",
              "    }\n",
              "  </style>\n",
              "\n",
              "      <script>\n",
              "        const buttonEl =\n",
              "          document.querySelector('#df-3c1230ba-7260-4503-a034-82b2c413f01b button.colab-df-convert');\n",
              "        buttonEl.style.display =\n",
              "          google.colab.kernel.accessAllowed ? 'block' : 'none';\n",
              "\n",
              "        async function convertToInteractive(key) {\n",
              "          const element = document.querySelector('#df-3c1230ba-7260-4503-a034-82b2c413f01b');\n",
              "          const dataTable =\n",
              "            await google.colab.kernel.invokeFunction('convertToInteractive',\n",
              "                                                     [key], {});\n",
              "          if (!dataTable) return;\n",
              "\n",
              "          const docLinkHtml = 'Like what you see? Visit the ' +\n",
              "            '<a target=\"_blank\" href=https://colab.research.google.com/notebooks/data_table.ipynb>data table notebook</a>'\n",
              "            + ' to learn more about interactive tables.';\n",
              "          element.innerHTML = '';\n",
              "          dataTable['output_type'] = 'display_data';\n",
              "          await google.colab.output.renderOutput(dataTable, element);\n",
              "          const docLink = document.createElement('div');\n",
              "          docLink.innerHTML = docLinkHtml;\n",
              "          element.appendChild(docLink);\n",
              "        }\n",
              "      </script>\n",
              "    </div>\n",
              "  </div>\n",
              "  "
            ]
          },
          "metadata": {},
          "execution_count": 10
        }
      ]
    },
    {
      "cell_type": "code",
      "source": [
        "#Applying apriori algorithm\n",
        "#The lift value of an association rule is the ratio of the confidence of the rule and the expected confidence of the rule.\n",
        "\n",
        "association_rules = apriori(list_items, min_support=0.0045, min_confidence=0.2, min_lift=3, min_length=2)\n",
        "association_list = list(association_rules)\n"
      ],
      "metadata": {
        "id": "neGugKbxqdGs"
      },
      "execution_count": null,
      "outputs": []
    },
    {
      "cell_type": "code",
      "source": [
        "#Generating the association rule between the items\n",
        "\n",
        "for i in range(0, len(association_list)):\n",
        "    print(association_list[i][0])"
      ],
      "metadata": {
        "id": "4KfvxMOXsIYy",
        "colab": {
          "base_uri": "https://localhost:8080/"
        },
        "outputId": "17a58911-83f4-4d37-f258-953c0ad29677"
      },
      "execution_count": null,
      "outputs": [
        {
          "output_type": "stream",
          "name": "stdout",
          "text": [
            "frozenset({'JAM', 'MAGGI'})\n",
            "frozenset({'CORNFLAKES', 'BISCUIT', 'BREAD'})\n",
            "frozenset({'COCK', 'BISCUIT', 'COFFEE'})\n",
            "frozenset({'COCK', 'CORNFLAKES', 'BISCUIT'})\n",
            "frozenset({'CORNFLAKES', 'BISCUIT', 'COFFEE'})\n",
            "frozenset({'MILK', 'CORNFLAKES', 'BISCUIT'})\n",
            "frozenset({'BISCUIT', 'TEA', 'MAGGI'})\n",
            "frozenset({'BOURNVITA', 'SUGER', 'COFFEE'})\n",
            "frozenset({'MILK', 'CORNFLAKES', 'BREAD'})\n",
            "frozenset({'JAM', 'MAGGI', 'BREAD'})\n",
            "frozenset({'MILK', 'JAM', 'BREAD'})\n",
            "frozenset({'COCK', 'CORNFLAKES', 'COFFEE'})\n",
            "frozenset({'MILK', 'CORNFLAKES', 'COFFEE'})\n",
            "frozenset({'CORNFLAKES', 'COFFEE', 'TEA'})\n",
            "frozenset({'MILK', 'TEA', 'COFFEE'})\n",
            "frozenset({'MILK', 'CORNFLAKES', 'TEA'})\n",
            "frozenset({'MILK', 'JAM', 'MAGGI'})\n",
            "frozenset({'TEA', 'JAM', 'MAGGI'})\n",
            "frozenset({'MILK', 'CORNFLAKES', 'BISCUIT', 'BREAD'})\n",
            "frozenset({'BISCUIT', 'TEA', 'MAGGI', 'BREAD'})\n",
            "frozenset({'COCK', 'CORNFLAKES', 'BISCUIT', 'COFFEE'})\n",
            "frozenset({'MILK', 'JAM', 'MAGGI', 'BREAD'})\n",
            "frozenset({'TEA', 'JAM', 'MAGGI', 'BREAD'})\n",
            "frozenset({'MILK', 'CORNFLAKES', 'COFFEE', 'TEA'})\n"
          ]
        }
      ]
    },
    {
      "cell_type": "code",
      "source": [
        "\n"
      ],
      "metadata": {
        "id": "89OL5mjgyhbD"
      },
      "execution_count": null,
      "outputs": []
    },
    {
      "cell_type": "code",
      "source": [
        "#####  APRIORI 2"
      ],
      "metadata": {
        "id": "x_LlQ3BxzHC1"
      },
      "execution_count": null,
      "outputs": []
    },
    {
      "cell_type": "code",
      "source": [
        "import pandas as pd\n",
        "from mlxtend.preprocessing import TransactionEncoder\n",
        "from mlxtend.frequent_patterns import apriori, association_rules\n",
        "df = pd.read_csv(\"/content/gdrive/MyDrive/Datasets/GroceryStoreDataSet.csv\", names = ['transaction'], sep = ',')"
      ],
      "metadata": {
        "id": "3ScyYPzMxT7m"
      },
      "execution_count": null,
      "outputs": []
    },
    {
      "cell_type": "markdown",
      "source": [
        "pandas for dataframe management\n",
        "mlxtend (machine learning extensions) is a Python library of useful tools for day-to-day data science tasks.\n",
        "\n",
        "mlxtend.preprocessing for data preprocessing before performing the task.\n",
        "\n",
        "mlxtend.frequent_patterns for association rule task.\n",
        "\n",
        "load data as a variable df"
      ],
      "metadata": {
        "id": "W_Pm2_QLxftm"
      }
    },
    {
      "cell_type": "code",
      "source": [
        "#2. One-hot encoding\n",
        "#We have to change the data to the appropriate format before inputting it into the Apriori algorithm. The goal is a one-hot DataFrame.\n",
        "\n",
        "#Change the DataFrame to a list of lists.\n",
        "\n",
        "df = list(df[\"transaction\"].apply(lambda x:x.split(\",\")))\n"
      ],
      "metadata": {
        "id": "VXLk7zt8xaBH"
      },
      "execution_count": null,
      "outputs": []
    },
    {
      "cell_type": "code",
      "source": [
        "#df = list(df[\"transaction\"].apply(lambda x:x.split(\",\")))"
      ],
      "metadata": {
        "colab": {
          "base_uri": "https://localhost:8080/",
          "height": 169
        },
        "id": "RVpQ1ehixxGk",
        "outputId": "1ff1fac1-c640-4efe-aa99-6ca58aa91d3b"
      },
      "execution_count": null,
      "outputs": [
        {
          "output_type": "error",
          "ename": "TypeError",
          "evalue": "ignored",
          "traceback": [
            "\u001b[0;31m---------------------------------------------------------------------------\u001b[0m",
            "\u001b[0;31mTypeError\u001b[0m                                 Traceback (most recent call last)",
            "\u001b[0;32m<ipython-input-16-c7960e30fbf4>\u001b[0m in \u001b[0;36m<cell line: 1>\u001b[0;34m()\u001b[0m\n\u001b[0;32m----> 1\u001b[0;31m \u001b[0mdf\u001b[0m \u001b[0;34m=\u001b[0m \u001b[0mlist\u001b[0m\u001b[0;34m(\u001b[0m\u001b[0mdf\u001b[0m\u001b[0;34m[\u001b[0m\u001b[0;34m\"transaction\"\u001b[0m\u001b[0;34m]\u001b[0m\u001b[0;34m.\u001b[0m\u001b[0mapply\u001b[0m\u001b[0;34m(\u001b[0m\u001b[0;32mlambda\u001b[0m \u001b[0mx\u001b[0m\u001b[0;34m:\u001b[0m\u001b[0mx\u001b[0m\u001b[0;34m.\u001b[0m\u001b[0msplit\u001b[0m\u001b[0;34m(\u001b[0m\u001b[0;34m\",\"\u001b[0m\u001b[0;34m)\u001b[0m\u001b[0;34m)\u001b[0m\u001b[0;34m)\u001b[0m\u001b[0;34m\u001b[0m\u001b[0;34m\u001b[0m\u001b[0m\n\u001b[0m",
            "\u001b[0;31mTypeError\u001b[0m: list indices must be integers or slices, not str"
          ]
        }
      ]
    },
    {
      "cell_type": "code",
      "source": [
        "#Use TransactionEncoder from the mlxtend library to change the list of transactions to a one-hot array."
      ],
      "metadata": {
        "id": "Ls0KL9SRx0au"
      },
      "execution_count": null,
      "outputs": []
    },
    {
      "cell_type": "code",
      "source": [
        "one_hot_transformer = TransactionEncoder()\n",
        "df_transform = one_hot_transformer.fit_transform(df)"
      ],
      "metadata": {
        "id": "P-Hxrbhcx_Fp"
      },
      "execution_count": null,
      "outputs": []
    },
    {
      "cell_type": "code",
      "source": [
        "#Change the one-hot array to a DataFrame.\n",
        "df = pd.DataFrame(df_transform,columns=one_hot_transformer.columns_)"
      ],
      "metadata": {
        "id": "gljlrRvAyCax"
      },
      "execution_count": null,
      "outputs": []
    },
    {
      "cell_type": "markdown",
      "source": [
        "This is our desired format, one-hot. The columns are items in the store and each row represents a transaction. If the value is True, that item is sold in that transaction. Now, the data is ready to be fed to the algorithm"
      ],
      "metadata": {
        "id": "b3jfWkvyyN0X"
      }
    },
    {
      "cell_type": "code",
      "source": [
        "#3. Find the frequent itemsets using Apriori\n",
        "\n",
        "df = apriori(df, min_support = 0.2, use_colnames = True)\n",
        "df.sort_values(['support'],ascending=False, inplace = True)"
      ],
      "metadata": {
        "id": "ovP7amHTyJeW"
      },
      "execution_count": null,
      "outputs": []
    },
    {
      "cell_type": "markdown",
      "source": [
        " the minimum support to 0.2, so it will filter only a set of item(s) whose support is greater than 0.2 (or more than 20% from 19 transactions).\n",
        "\n",
        "Only these itemsets which are considered important will proceed to the association rule."
      ],
      "metadata": {
        "id": "rZkQvGLhybip"
      }
    },
    {
      "cell_type": "code",
      "source": [
        "#4. Association rule\n",
        "\n",
        "df_ar = association_rules(df, metric=\"lift\", min_threshold=1)\n",
        "df_ar"
      ],
      "metadata": {
        "colab": {
          "base_uri": "https://localhost:8080/",
          "height": 444
        },
        "id": "40zrkWFhyU7g",
        "outputId": "b8a71dd2-eaec-47cd-8df6-95e93542ff47"
      },
      "execution_count": null,
      "outputs": [
        {
          "output_type": "execute_result",
          "data": {
            "text/plain": [
              "    antecedents   consequents  antecedent support  consequent support  \\\n",
              "0        (MILK)       (BREAD)                0.25                0.65   \n",
              "1       (BREAD)        (MILK)                0.65                0.25   \n",
              "2       (SUGER)       (BREAD)                0.30                0.65   \n",
              "3       (BREAD)       (SUGER)                0.65                0.30   \n",
              "4  (CORNFLAKES)      (COFFEE)                0.30                0.40   \n",
              "5      (COFFEE)  (CORNFLAKES)                0.40                0.30   \n",
              "6      (COFFEE)       (SUGER)                0.40                0.30   \n",
              "7       (SUGER)      (COFFEE)                0.30                0.40   \n",
              "8         (TEA)       (MAGGI)                0.35                0.25   \n",
              "9       (MAGGI)         (TEA)                0.25                0.35   \n",
              "\n",
              "   support  confidence      lift  leverage  conviction  \n",
              "0      0.2    0.800000  1.230769    0.0375    1.750000  \n",
              "1      0.2    0.307692  1.230769    0.0375    1.083333  \n",
              "2      0.2    0.666667  1.025641    0.0050    1.050000  \n",
              "3      0.2    0.307692  1.025641    0.0050    1.011111  \n",
              "4      0.2    0.666667  1.666667    0.0800    1.800000  \n",
              "5      0.2    0.500000  1.666667    0.0800    1.400000  \n",
              "6      0.2    0.500000  1.666667    0.0800    1.400000  \n",
              "7      0.2    0.666667  1.666667    0.0800    1.800000  \n",
              "8      0.2    0.571429  2.285714    0.1125    1.750000  \n",
              "9      0.2    0.800000  2.285714    0.1125    3.250000  "
            ],
            "text/html": [
              "\n",
              "  <div id=\"df-5594435b-1643-46a3-83ae-6d394242ba80\">\n",
              "    <div class=\"colab-df-container\">\n",
              "      <div>\n",
              "<style scoped>\n",
              "    .dataframe tbody tr th:only-of-type {\n",
              "        vertical-align: middle;\n",
              "    }\n",
              "\n",
              "    .dataframe tbody tr th {\n",
              "        vertical-align: top;\n",
              "    }\n",
              "\n",
              "    .dataframe thead th {\n",
              "        text-align: right;\n",
              "    }\n",
              "</style>\n",
              "<table border=\"1\" class=\"dataframe\">\n",
              "  <thead>\n",
              "    <tr style=\"text-align: right;\">\n",
              "      <th></th>\n",
              "      <th>antecedents</th>\n",
              "      <th>consequents</th>\n",
              "      <th>antecedent support</th>\n",
              "      <th>consequent support</th>\n",
              "      <th>support</th>\n",
              "      <th>confidence</th>\n",
              "      <th>lift</th>\n",
              "      <th>leverage</th>\n",
              "      <th>conviction</th>\n",
              "    </tr>\n",
              "  </thead>\n",
              "  <tbody>\n",
              "    <tr>\n",
              "      <th>0</th>\n",
              "      <td>(MILK)</td>\n",
              "      <td>(BREAD)</td>\n",
              "      <td>0.25</td>\n",
              "      <td>0.65</td>\n",
              "      <td>0.2</td>\n",
              "      <td>0.800000</td>\n",
              "      <td>1.230769</td>\n",
              "      <td>0.0375</td>\n",
              "      <td>1.750000</td>\n",
              "    </tr>\n",
              "    <tr>\n",
              "      <th>1</th>\n",
              "      <td>(BREAD)</td>\n",
              "      <td>(MILK)</td>\n",
              "      <td>0.65</td>\n",
              "      <td>0.25</td>\n",
              "      <td>0.2</td>\n",
              "      <td>0.307692</td>\n",
              "      <td>1.230769</td>\n",
              "      <td>0.0375</td>\n",
              "      <td>1.083333</td>\n",
              "    </tr>\n",
              "    <tr>\n",
              "      <th>2</th>\n",
              "      <td>(SUGER)</td>\n",
              "      <td>(BREAD)</td>\n",
              "      <td>0.30</td>\n",
              "      <td>0.65</td>\n",
              "      <td>0.2</td>\n",
              "      <td>0.666667</td>\n",
              "      <td>1.025641</td>\n",
              "      <td>0.0050</td>\n",
              "      <td>1.050000</td>\n",
              "    </tr>\n",
              "    <tr>\n",
              "      <th>3</th>\n",
              "      <td>(BREAD)</td>\n",
              "      <td>(SUGER)</td>\n",
              "      <td>0.65</td>\n",
              "      <td>0.30</td>\n",
              "      <td>0.2</td>\n",
              "      <td>0.307692</td>\n",
              "      <td>1.025641</td>\n",
              "      <td>0.0050</td>\n",
              "      <td>1.011111</td>\n",
              "    </tr>\n",
              "    <tr>\n",
              "      <th>4</th>\n",
              "      <td>(CORNFLAKES)</td>\n",
              "      <td>(COFFEE)</td>\n",
              "      <td>0.30</td>\n",
              "      <td>0.40</td>\n",
              "      <td>0.2</td>\n",
              "      <td>0.666667</td>\n",
              "      <td>1.666667</td>\n",
              "      <td>0.0800</td>\n",
              "      <td>1.800000</td>\n",
              "    </tr>\n",
              "    <tr>\n",
              "      <th>5</th>\n",
              "      <td>(COFFEE)</td>\n",
              "      <td>(CORNFLAKES)</td>\n",
              "      <td>0.40</td>\n",
              "      <td>0.30</td>\n",
              "      <td>0.2</td>\n",
              "      <td>0.500000</td>\n",
              "      <td>1.666667</td>\n",
              "      <td>0.0800</td>\n",
              "      <td>1.400000</td>\n",
              "    </tr>\n",
              "    <tr>\n",
              "      <th>6</th>\n",
              "      <td>(COFFEE)</td>\n",
              "      <td>(SUGER)</td>\n",
              "      <td>0.40</td>\n",
              "      <td>0.30</td>\n",
              "      <td>0.2</td>\n",
              "      <td>0.500000</td>\n",
              "      <td>1.666667</td>\n",
              "      <td>0.0800</td>\n",
              "      <td>1.400000</td>\n",
              "    </tr>\n",
              "    <tr>\n",
              "      <th>7</th>\n",
              "      <td>(SUGER)</td>\n",
              "      <td>(COFFEE)</td>\n",
              "      <td>0.30</td>\n",
              "      <td>0.40</td>\n",
              "      <td>0.2</td>\n",
              "      <td>0.666667</td>\n",
              "      <td>1.666667</td>\n",
              "      <td>0.0800</td>\n",
              "      <td>1.800000</td>\n",
              "    </tr>\n",
              "    <tr>\n",
              "      <th>8</th>\n",
              "      <td>(TEA)</td>\n",
              "      <td>(MAGGI)</td>\n",
              "      <td>0.35</td>\n",
              "      <td>0.25</td>\n",
              "      <td>0.2</td>\n",
              "      <td>0.571429</td>\n",
              "      <td>2.285714</td>\n",
              "      <td>0.1125</td>\n",
              "      <td>1.750000</td>\n",
              "    </tr>\n",
              "    <tr>\n",
              "      <th>9</th>\n",
              "      <td>(MAGGI)</td>\n",
              "      <td>(TEA)</td>\n",
              "      <td>0.25</td>\n",
              "      <td>0.35</td>\n",
              "      <td>0.2</td>\n",
              "      <td>0.800000</td>\n",
              "      <td>2.285714</td>\n",
              "      <td>0.1125</td>\n",
              "      <td>3.250000</td>\n",
              "    </tr>\n",
              "  </tbody>\n",
              "</table>\n",
              "</div>\n",
              "      <button class=\"colab-df-convert\" onclick=\"convertToInteractive('df-5594435b-1643-46a3-83ae-6d394242ba80')\"\n",
              "              title=\"Convert this dataframe to an interactive table.\"\n",
              "              style=\"display:none;\">\n",
              "        \n",
              "  <svg xmlns=\"http://www.w3.org/2000/svg\" height=\"24px\"viewBox=\"0 0 24 24\"\n",
              "       width=\"24px\">\n",
              "    <path d=\"M0 0h24v24H0V0z\" fill=\"none\"/>\n",
              "    <path d=\"M18.56 5.44l.94 2.06.94-2.06 2.06-.94-2.06-.94-.94-2.06-.94 2.06-2.06.94zm-11 1L8.5 8.5l.94-2.06 2.06-.94-2.06-.94L8.5 2.5l-.94 2.06-2.06.94zm10 10l.94 2.06.94-2.06 2.06-.94-2.06-.94-.94-2.06-.94 2.06-2.06.94z\"/><path d=\"M17.41 7.96l-1.37-1.37c-.4-.4-.92-.59-1.43-.59-.52 0-1.04.2-1.43.59L10.3 9.45l-7.72 7.72c-.78.78-.78 2.05 0 2.83L4 21.41c.39.39.9.59 1.41.59.51 0 1.02-.2 1.41-.59l7.78-7.78 2.81-2.81c.8-.78.8-2.07 0-2.86zM5.41 20L4 18.59l7.72-7.72 1.47 1.35L5.41 20z\"/>\n",
              "  </svg>\n",
              "      </button>\n",
              "      \n",
              "  <style>\n",
              "    .colab-df-container {\n",
              "      display:flex;\n",
              "      flex-wrap:wrap;\n",
              "      gap: 12px;\n",
              "    }\n",
              "\n",
              "    .colab-df-convert {\n",
              "      background-color: #E8F0FE;\n",
              "      border: none;\n",
              "      border-radius: 50%;\n",
              "      cursor: pointer;\n",
              "      display: none;\n",
              "      fill: #1967D2;\n",
              "      height: 32px;\n",
              "      padding: 0 0 0 0;\n",
              "      width: 32px;\n",
              "    }\n",
              "\n",
              "    .colab-df-convert:hover {\n",
              "      background-color: #E2EBFA;\n",
              "      box-shadow: 0px 1px 2px rgba(60, 64, 67, 0.3), 0px 1px 3px 1px rgba(60, 64, 67, 0.15);\n",
              "      fill: #174EA6;\n",
              "    }\n",
              "\n",
              "    [theme=dark] .colab-df-convert {\n",
              "      background-color: #3B4455;\n",
              "      fill: #D2E3FC;\n",
              "    }\n",
              "\n",
              "    [theme=dark] .colab-df-convert:hover {\n",
              "      background-color: #434B5C;\n",
              "      box-shadow: 0px 1px 3px 1px rgba(0, 0, 0, 0.15);\n",
              "      filter: drop-shadow(0px 1px 2px rgba(0, 0, 0, 0.3));\n",
              "      fill: #FFFFFF;\n",
              "    }\n",
              "  </style>\n",
              "\n",
              "      <script>\n",
              "        const buttonEl =\n",
              "          document.querySelector('#df-5594435b-1643-46a3-83ae-6d394242ba80 button.colab-df-convert');\n",
              "        buttonEl.style.display =\n",
              "          google.colab.kernel.accessAllowed ? 'block' : 'none';\n",
              "\n",
              "        async function convertToInteractive(key) {\n",
              "          const element = document.querySelector('#df-5594435b-1643-46a3-83ae-6d394242ba80');\n",
              "          const dataTable =\n",
              "            await google.colab.kernel.invokeFunction('convertToInteractive',\n",
              "                                                     [key], {});\n",
              "          if (!dataTable) return;\n",
              "\n",
              "          const docLinkHtml = 'Like what you see? Visit the ' +\n",
              "            '<a target=\"_blank\" href=https://colab.research.google.com/notebooks/data_table.ipynb>data table notebook</a>'\n",
              "            + ' to learn more about interactive tables.';\n",
              "          element.innerHTML = '';\n",
              "          dataTable['output_type'] = 'display_data';\n",
              "          await google.colab.output.renderOutput(dataTable, element);\n",
              "          const docLink = document.createElement('div');\n",
              "          docLink.innerHTML = docLinkHtml;\n",
              "          element.appendChild(docLink);\n",
              "        }\n",
              "      </script>\n",
              "    </div>\n",
              "  </div>\n",
              "  "
            ]
          },
          "metadata": {},
          "execution_count": 22
        }
      ]
    },
    {
      "cell_type": "markdown",
      "source": [
        "The association_rules function will automatically calculate key metrics of our transaction data including support, confidence, lift, leverage, and conviction."
      ],
      "metadata": {
        "id": "NC6Ag1NDykIL"
      }
    },
    {
      "cell_type": "markdown",
      "source": [
        "The result is required interpretation for further business actions.\n",
        "\n",
        "Interpretation examples\n",
        "\n",
        "From the highest confidence in index 0, the confidence is 0.8. It means that the customer who buys milk will buy bread for 80%. However, you have to keep in mind that confidence is not everything. The high confidence in this row is due to the high support of bread (consequence support 0.65) which means bread occurs in many transactions, so it will not make a business impact if we try to sell bread with milk anyway.\n",
        "The better metric is lift or leverage. Index 8 has the highest lift and leverage at 2.28 and 0.1125 respectively. It means that the customers who buy tea are likely to buy Maggi as well.\n",
        "What we can do after knowing this?\n",
        "\n",
        "Change shelf layout to sell Maggi close to tea.\n",
        "Promoting Maggi together with tea."
      ],
      "metadata": {
        "id": "563Jq89mykQB"
      }
    },
    {
      "cell_type": "code",
      "source": [],
      "metadata": {
        "id": "sDb-yLG5z7Hp"
      },
      "execution_count": null,
      "outputs": []
    }
  ]
}